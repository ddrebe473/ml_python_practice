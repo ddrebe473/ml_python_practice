{
 "cells": [
  {
   "cell_type": "code",
   "execution_count": 9,
   "metadata": {},
   "outputs": [
    {
     "name": "stdout",
     "output_type": "stream",
     "text": [
      "[4.29385095 4.86501656 0.35019354 2.26538651 4.17356793 2.24306872\n",
      " 0.94449628 4.09591405 4.24514525 1.42896581 1.74649502 3.00047287\n",
      " 2.45834506 4.39749364 4.64766648 3.53147362 1.98106477 3.63990645\n",
      " 3.13761495 2.43721131 4.2035919  2.11828218 4.21684755 1.24556886\n",
      " 3.89195744 0.21239818 4.7258128  4.75218547 1.98888114 1.85429214\n",
      " 3.54814901 3.15835841 1.85906677 0.53681777 0.72532591 0.78784709\n",
      " 0.58125303 0.10324133 3.46241864 1.67461382 0.23339115 1.35865619\n",
      " 0.37445791 4.77792774 2.08663981 4.90367644 1.95510288 4.32045146\n",
      " 0.31284547 3.23011644 4.5128254  3.76089415 2.6628576  0.60774253\n",
      " 4.15029085 2.14225776 1.02029509 2.43761386 0.5927794  2.64229891\n",
      " 2.24534369 1.75301434 4.49398789 0.82941678 2.10457833 3.90811994\n",
      " 0.45626947 3.56517697 1.12725554 2.71221099 2.47990851 2.07346757\n",
      " 4.96119281 1.1485302  2.54264525 0.42621568 3.15537946 0.53098145\n",
      " 4.15603806 0.01060005 1.66681492 4.06145765 4.69026999 1.15470018\n",
      " 4.54735671 2.02998036 3.533282   4.34058215 4.44864619 3.98115145\n",
      " 4.67748865 4.68855088 2.58298248 0.48471744 4.35818585 4.90737714\n",
      " 0.17915651 2.90454311 1.17770389 4.15769481 4.22175402 3.32306542\n",
      " 4.27071663 1.99557075 3.21454121 4.95885423 4.47063558 2.97286186\n",
      " 3.89631054 1.76821172 4.72837761 0.93553019 3.65091158 1.18773008\n",
      " 3.65722406 0.67992992 4.65391611 0.56972209 1.15299135 0.16193385\n",
      " 4.08775299 2.51364105 3.49349047 0.4359365  1.00479759 0.22499436\n",
      " 1.87446567 4.57536473 4.84507566 2.4019646  4.66366107 2.49074816\n",
      " 2.35042861 1.07045043 0.55523571 2.52430768 4.13359263 2.38133555\n",
      " 1.23417078 0.56027744 1.4435994  3.55600405 0.56459505 3.39007889\n",
      " 0.74407798 4.69738104 4.72270041 0.40506051 0.76933317 1.56451228\n",
      " 1.87502451 0.26416999 0.90241458 4.59319856 3.25950545 0.22867233\n",
      " 4.1317695  0.90062384 1.98549955 2.8472568  2.39994349 3.90722091\n",
      " 2.65439771 4.15348425 1.34082345 4.15449119 3.48365433 2.79112038\n",
      " 4.19522323 4.33143197 1.88137937 2.29886079 0.2531751  1.49355375\n",
      " 1.83721996 4.13165065 4.00132474 0.41321601 2.41920636 3.49598737\n",
      " 4.09878438 0.23678375 1.72851693 3.47331008 3.54810228 1.01331658\n",
      " 1.28364788 0.13888802 4.86749095 3.24040389 0.02147889 3.87777865\n",
      " 0.50604028 1.545061   2.36884719 4.73768371 0.99201905 4.98533022\n",
      " 0.43053701 1.28871517 4.03939459 2.41065112 2.14074818 3.70967466\n",
      " 2.4476943  4.53834496 0.92253302 3.46207391 2.79934446 3.84884069\n",
      " 0.26266849 4.95316904 1.95455832 2.12718762 1.9496879  3.975452\n",
      " 4.44792305 4.63519236 3.61934209 2.99194296 4.85878623 0.55979989\n",
      " 3.7108695  1.818827   1.73892041 1.68479708 3.27054416 4.51384285\n",
      " 1.78504292 0.96718824 3.84586053 0.32884556 3.53633461 1.40547098\n",
      " 1.89353489 1.86749908 2.98780451 2.00717647 4.50724768 0.11359842\n",
      " 3.69355227 4.95316684 3.78865584 4.86806718 4.86086973 4.3697566\n",
      " 4.36005621 1.02773199 1.8910726  4.349982  ]\n"
     ]
    }
   ],
   "source": [
    "import numpy as np\n",
    "import numpy\n",
    "\n",
    "x = numpy.random.uniform(0.0, 5.0, 250)\n",
    "\n",
    "print(x)\n"
   ]
  },
  {
   "cell_type": "code",
   "execution_count": 10,
   "metadata": {},
   "outputs": [
    {
     "name": "stdout",
     "output_type": "stream",
     "text": [
      "[0 1 2 3 4 5]\n"
     ]
    }
   ],
   "source": [
    "a = np.arange(6)\n",
    "[0, 1, 2, 3, 4, 5]\n",
    "print(a)\n",
    "\n"
   ]
  },
  {
   "cell_type": "code",
   "execution_count": 11,
   "metadata": {},
   "outputs": [
    {
     "name": "stdout",
     "output_type": "stream",
     "text": [
      "[ 1  2  2  3  4  4  6  8  9 11 18]\n"
     ]
    }
   ],
   "source": [
    "arr = np.array([6, 1, 4, 2, 18, 9, 3, 4, 2, 8, 11])\n",
    "\n",
    "arr = np.sort(arr)[::+1]\n",
    "print(arr)\n"
   ]
  },
  {
   "cell_type": "code",
   "execution_count": 12,
   "metadata": {},
   "outputs": [
    {
     "name": "stdout",
     "output_type": "stream",
     "text": [
      "In if-clause\n"
     ]
    }
   ],
   "source": [
    "x = True\n",
    "\n",
    "if x == True:\n",
    "    print('In if-clause')\n",
    "else:\n",
    "    print('In else-clause')"
   ]
  },
  {
   "cell_type": "code",
   "execution_count": 13,
   "metadata": {},
   "outputs": [
    {
     "name": "stdout",
     "output_type": "stream",
     "text": [
      "In for loop body\n",
      "In for loop body\n",
      "In else loop body\n"
     ]
    }
   ],
   "source": [
    "for x in range(2):\n",
    "    print('In for loop body')\n",
    "\n",
    "else:\n",
    "    print('In else loop body')\n",
    "\n",
    "\n",
    "def foo(): print('In function definition')\n"
   ]
  },
  {
   "cell_type": "code",
   "execution_count": 14,
   "metadata": {},
   "outputs": [
    {
     "name": "stdout",
     "output_type": "stream",
     "text": [
      "<class 'int'>\n",
      "<class 'float'>\n",
      "<class 'str'>\n",
      "<class 'int'> <class 'float'> <class 'str'>\n"
     ]
    }
   ],
   "source": [
    "a = 2\n",
    "print(type(a))  # the `type` function tells us the type of a value\n",
    "\n",
    "a = 1.5\n",
    "print(type(a))\n",
    "\n",
    "a = 'hello'\n",
    "print(type(a))\n",
    "print(type(2), type(1.5), type('hello'))\n"
   ]
  },
  {
   "cell_type": "code",
   "execution_count": 15,
   "metadata": {},
   "outputs": [
    {
     "name": "stdout",
     "output_type": "stream",
     "text": [
      "(1, 500, -123456789, 6598293784982739874982734)\n",
      "(3, -1, 6, 14, 0.4, 1267650600228229401496703205376, 25)\n",
      "(True, True, True, True, True, True)\n"
     ]
    }
   ],
   "source": [
    "\n",
    "print((\n",
    "    1,\n",
    "    500,\n",
    "    -123456789,\n",
    "    6598293784982739874982734\n",
    "))\n",
    "\n",
    "print((\n",
    "    1 + 2,\n",
    "    1 - 2,\n",
    "    2 * 3,\n",
    "    2 * 3 + 2 * 4,\n",
    "    2 / 5,\n",
    "    2 ** 100,  # exponentiation\n",
    "    abs(-25)\n",
    "))\n",
    "\n",
    "x = 10\n",
    "y = 20\n",
    "z = 30\n",
    "print((\n",
    "    0 <= x < 100,\n",
    "    0 <= x and x < 100,\n",
    "    x < y < z < 40,\n",
    "    x < y and y < z and z < 40,\n",
    "    x < z > y,\n",
    "    x < z and z > y,\n",
    "))\n"
   ]
  },
  {
   "cell_type": "code",
   "execution_count": 16,
   "metadata": {},
   "outputs": [
    {
     "name": "stdout",
     "output_type": "stream",
     "text": [
      "[[9. 8. 7.]\n",
      " [6. 5. 4.]]\n"
     ]
    }
   ],
   "source": [
    "b=np.array([[9.0,8.0,7.0],[6.0,5.0,4.0]])\n",
    "print(b)"
   ]
  },
  {
   "cell_type": "code",
   "execution_count": 17,
   "metadata": {},
   "outputs": [
    {
     "data": {
      "text/plain": [
       "2"
      ]
     },
     "execution_count": 17,
     "metadata": {},
     "output_type": "execute_result"
    }
   ],
   "source": [
    "#Get Dimension\n",
    "b.ndim"
   ]
  },
  {
   "cell_type": "code",
   "execution_count": 18,
   "metadata": {},
   "outputs": [
    {
     "data": {
      "text/plain": [
       "(2, 3)"
      ]
     },
     "execution_count": 18,
     "metadata": {},
     "output_type": "execute_result"
    }
   ],
   "source": [
    "#Get Shape\n",
    "b.shape"
   ]
  },
  {
   "cell_type": "code",
   "execution_count": 19,
   "metadata": {},
   "outputs": [
    {
     "data": {
      "text/plain": [
       "dtype('float64')"
      ]
     },
     "execution_count": 19,
     "metadata": {},
     "output_type": "execute_result"
    }
   ],
   "source": [
    "#get type\n",
    "b.dtype"
   ]
  },
  {
   "cell_type": "code",
   "execution_count": 20,
   "metadata": {
    "vscode": {
     "languageId": "powershell"
    }
   },
   "outputs": [
    {
     "data": {
      "text/plain": [
       "8"
      ]
     },
     "execution_count": 20,
     "metadata": {},
     "output_type": "execute_result"
    }
   ],
   "source": [
    "#get size\n",
    "b.itemsize"
   ]
  },
  {
   "cell_type": "code",
   "execution_count": 21,
   "metadata": {},
   "outputs": [
    {
     "data": {
      "text/plain": [
       "48"
      ]
     },
     "execution_count": 21,
     "metadata": {},
     "output_type": "execute_result"
    }
   ],
   "source": [
    "#get total size\n",
    "b.size*b.itemsize\n",
    "\n",
    "b.nbytes #shorthand"
   ]
  },
  {
   "cell_type": "code",
   "execution_count": 22,
   "metadata": {},
   "outputs": [
    {
     "name": "stdout",
     "output_type": "stream",
     "text": [
      "[[ 1  2  3  4  5  6  7]\n",
      " [ 8  9 10 11 12 13 14]]\n"
     ]
    }
   ],
   "source": [
    "arr2 = np.array([[1,2,3,4,5,6,7],[8,9,10,11,12,13,14]])\n",
    "print(arr2)"
   ]
  },
  {
   "cell_type": "code",
   "execution_count": 23,
   "metadata": {},
   "outputs": [
    {
     "data": {
      "text/plain": [
       "13"
      ]
     },
     "execution_count": 23,
     "metadata": {},
     "output_type": "execute_result"
    }
   ],
   "source": [
    "#Get a specific element [row,column]\n",
    "arr2[1,5]\n",
    "arr2[1,-2]"
   ]
  },
  {
   "cell_type": "code",
   "execution_count": 24,
   "metadata": {},
   "outputs": [
    {
     "data": {
      "text/plain": [
       "array([1, 2, 3, 4, 5, 6, 7])"
      ]
     },
     "execution_count": 24,
     "metadata": {},
     "output_type": "execute_result"
    }
   ],
   "source": [
    "#Get a specifi row\n",
    "arr2[0,:]"
   ]
  },
  {
   "cell_type": "code",
   "execution_count": 25,
   "metadata": {},
   "outputs": [
    {
     "data": {
      "text/plain": [
       "array([2, 9])"
      ]
     },
     "execution_count": 25,
     "metadata": {},
     "output_type": "execute_result"
    }
   ],
   "source": [
    "#Get a specific column\n",
    "arr2[: ,1]"
   ]
  },
  {
   "cell_type": "code",
   "execution_count": 26,
   "metadata": {},
   "outputs": [
    {
     "data": {
      "text/plain": [
       "array([2, 4, 6])"
      ]
     },
     "execution_count": 26,
     "metadata": {},
     "output_type": "execute_result"
    }
   ],
   "source": [
    "#Getting a little more fancy [startindex:endindex:stepindex]\n",
    "arr2[0,1:6:2]\n",
    "arr2[0,1:-1:2]"
   ]
  },
  {
   "cell_type": "code",
   "execution_count": 29,
   "metadata": {},
   "outputs": [
    {
     "name": "stdout",
     "output_type": "stream",
     "text": [
      "[[ 1  2  5  4  5  6  7]\n",
      " [ 8  9  5 11 12 20 14]]\n",
      "[[ 1  2  5  4  5  6  7]\n",
      " [ 8  9  5 11 12 20 14]]\n",
      "[[ 1  2  1  4  5  6  7]\n",
      " [ 8  9  2 11 12 20 14]]\n"
     ]
    }
   ],
   "source": [
    "arr2[1,5]=20\n",
    "print(arr2)\n",
    "\n",
    "arr2[:,2]=5\n",
    "print(arr2)\n",
    "\n",
    "arr2[:,2]=[1,2]\n",
    "print(arr2)"
   ]
  }
 ],
 "metadata": {
  "interpreter": {
   "hash": "f9f68585656d2af418509cfdc3ae64a2df251c855d829aa9c64f1046c3e79900"
  },
  "kernelspec": {
   "display_name": "Python 3.10.2 64-bit",
   "language": "python",
   "name": "python3"
  },
  "language_info": {
   "codemirror_mode": {
    "name": "ipython",
    "version": 3
   },
   "file_extension": ".py",
   "mimetype": "text/x-python",
   "name": "python",
   "nbconvert_exporter": "python",
   "pygments_lexer": "ipython3",
   "version": "3.10.2"
  },
  "orig_nbformat": 4
 },
 "nbformat": 4,
 "nbformat_minor": 2
}
